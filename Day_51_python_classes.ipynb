{
  "nbformat": 4,
  "nbformat_minor": 0,
  "metadata": {
    "colab": {
      "provenance": [],
      "include_colab_link": true
    },
    "kernelspec": {
      "name": "python3",
      "display_name": "Python 3"
    },
    "language_info": {
      "name": "python"
    }
  },
  "cells": [
    {
      "cell_type": "markdown",
      "metadata": {
        "id": "view-in-github",
        "colab_type": "text"
      },
      "source": [
        "<a href=\"https://colab.research.google.com/github/Samarth-DataScience/Bokeh-Forked/blob/branch-3.4/Day_51_python_classes.ipynb\" target=\"_parent\"><img src=\"https://colab.research.google.com/assets/colab-badge.svg\" alt=\"Open In Colab\"/></a>"
      ]
    },
    {
      "cell_type": "markdown",
      "source": [
        "1. Create a class representing a car with attributes like make, model, and year. Implement a method in the class to calculate the age of the car.\n",
        "\n",
        "2. Create a base class 'Shape' with methods to calculate area and perimeter. Derive classes 'Rectangle' and 'Circle' from 'Shape' with their own implementations.\n",
        "\n",
        "3. Design a class representing a bank account with private attributes for balance and account number. Implement methods for deposit and withdrawal.\n",
        "\n",
        "4. Write a function to reverse a list.\n",
        "\n",
        "5. Implement a function to find the second largest element in a list.\n",
        "\n",
        "6. Write a function to check if a given string is a palindrome.\n",
        "\n",
        "7. Create a function to count the occurrences of each character in a string.\n",
        "\n",
        "8. Write a program to concatenate two tuples.\n",
        "\n",
        "9. Implement a function to find the index of an element in a tuple.\n",
        "\n",
        "10. Create a function to find the intersection of two sets.\n",
        "\n",
        "11. Write a program to remove duplicates from a list using sets.\n",
        "\n",
        "12. Write a function to merge two dictionaries.\n",
        "\n",
        "13. Implement a program to find the keys with the maximum value in a dictionary.\n",
        "\n",
        "14. Write a function that takes a list of numbers and returns their sum.\n",
        "\n",
        "15. Implement a function to check if a number is prime.\n",
        "\n",
        "16. Use a lambda function to square each element in a list.\n",
        "\n",
        "17. Write a program to filter even numbers from a list using a lambda function.\n",
        "\n",
        "18. Use the map function to convert a list of temperatures from Celsius to Fahrenheit.\n",
        "\n",
        "19. Write a program to capitalize the first letter of each word in a list of strings using map.\n",
        "\n",
        "20. Implement a program to filter out numbers less than 10 from a list using the filter function.\n",
        "\n",
        "21. Write a function to filter palindromes from a list of strings.\n",
        "\n",
        "22. Use the reduce function to find the product of elements in a list.\n",
        "\n",
        "23. Implement a program to find the maximum element in a list using reduce.\n",
        "\n",
        "24. Write a function to check if a number is a perfect square.\n",
        "\n",
        "25. Create a class representing a book with attributes like title, author, and publication year. Implement a method to display information about the book.\n",
        "\n",
        "26. Design a class representing a geometric shape with methods to calculate area and perimeter. Derive classes for specific shapes like rectangle and circle.\n",
        "\n",
        "27. Write a program to find the common elements between two lists.\n",
        "\n",
        "28. Implement a function to remove vowels from a given string.\n",
        "\n",
        "29. Write a program to sort a list of strings based on the length of each string.\n",
        "\n",
        "30. Create a function to calculate the factorial of a given number."
      ],
      "metadata": {
        "id": "wLFDYiiQpMwn"
      }
    },
    {
      "cell_type": "markdown",
      "source": [
        "**1. Create a class representing a car with attributes like make, model, and year. Implement a method in the class to calculate the age of the car.**"
      ],
      "metadata": {
        "id": "UfgBxILWpWX4"
      }
    },
    {
      "cell_type": "code",
      "execution_count": null,
      "metadata": {
        "id": "xUvqswLl2zr9",
        "colab": {
          "base_uri": "https://localhost:8080/"
        },
        "outputId": "313a7214-b590-4220-f449-16856bbc69ec"
      },
      "outputs": [
        {
          "output_type": "stream",
          "name": "stdout",
          "text": [
            "Remaining warranty is 3 years\n"
          ]
        }
      ],
      "source": [
        "class car:\n",
        "  make = 'Toyta'\n",
        "  model = 'XUV5600'\n",
        "  year =  2021\n",
        "\n",
        "  def warranty(self,year):\n",
        "    age = 2023 - year\n",
        "    return print(f'Remaining warranty is {age} years')\n",
        "\n",
        "car = car()\n",
        "car.warranty(2020)"
      ]
    },
    {
      "cell_type": "markdown",
      "source": [
        "**2. Write a function to reverse a list.**"
      ],
      "metadata": {
        "id": "kAd7uOQ1rzvf"
      }
    },
    {
      "cell_type": "code",
      "source": [
        "def list_reverse(l):\n",
        "  reverse_list = l[::-1]\n",
        "  return reverse_list\n",
        "\n",
        "list_reverse([1,2,3,4])"
      ],
      "metadata": {
        "id": "ct82hSlnr2in",
        "outputId": "5cd10809-2918-4563-c7fd-829a93cf6ba8",
        "colab": {
          "base_uri": "https://localhost:8080/"
        }
      },
      "execution_count": null,
      "outputs": [
        {
          "output_type": "execute_result",
          "data": {
            "text/plain": [
              "[4, 3, 2, 1]"
            ]
          },
          "metadata": {},
          "execution_count": 10
        }
      ]
    },
    {
      "cell_type": "markdown",
      "source": [
        "**3. Implement a function to find the second largest element in a list.**"
      ],
      "metadata": {
        "id": "41i0XT0rsqrT"
      }
    },
    {
      "cell_type": "code",
      "source": [
        "def second_largest_num(l):\n",
        "  reversed_list = sorted(l, reverse = True)\n",
        "  return reversed_list[1]\n",
        "\n",
        "second_largest_num([2,45,3,85,4,374,311,21,12,0,1185])"
      ],
      "metadata": {
        "id": "TAEDNG_1sspj",
        "outputId": "069854af-9583-42e7-bba3-7c4a19bfe7da",
        "colab": {
          "base_uri": "https://localhost:8080/"
        }
      },
      "execution_count": null,
      "outputs": [
        {
          "output_type": "execute_result",
          "data": {
            "text/plain": [
              "374"
            ]
          },
          "metadata": {},
          "execution_count": 13
        }
      ]
    },
    {
      "cell_type": "markdown",
      "source": [
        "**4. Write a function to check if a given string is a palindrome.**"
      ],
      "metadata": {
        "id": "lVCGMu-otLmq"
      }
    },
    {
      "cell_type": "code",
      "source": [
        "def palindrome(string_value):\n",
        "  result = ''\n",
        "  if string_value[::-1] == string_value:\n",
        "    return 'Yes the given string is palindrome'\n",
        "  else:\n",
        "    return 'Given string is not a palindrome'\n",
        "\n",
        "print(palindrome('english'))"
      ],
      "metadata": {
        "id": "JcFyMepctPuz",
        "outputId": "4d186b59-5b83-4a34-d665-3b7aa1caccc7",
        "colab": {
          "base_uri": "https://localhost:8080/"
        }
      },
      "execution_count": null,
      "outputs": [
        {
          "output_type": "stream",
          "name": "stdout",
          "text": [
            "Given string is not a palindrome\n"
          ]
        }
      ]
    },
    {
      "cell_type": "markdown",
      "source": [
        "**5. Create a function to count the occurrences of each character in a string.**"
      ],
      "metadata": {
        "id": "wKTLZb9xwUTc"
      }
    },
    {
      "cell_type": "code",
      "source": [
        "def count_characters(input_string):\n",
        "    count_dict = {}\n",
        "\n",
        "    for char in input_string:\n",
        "        if char in count_dict:\n",
        "            count_dict[char] += 1\n",
        "        else:\n",
        "            count_dict[char] = 1\n",
        "\n",
        "    return count_dict\n",
        "\n",
        "# Example usage:\n",
        "input_string = 'Hello world'\n",
        "result = count_characters(input_string)\n",
        "\n",
        "for char, count in result.items():\n",
        "    print(f\"Character '{char}' occurs {count} times.\")\n"
      ],
      "metadata": {
        "id": "rIQ1o_V0wWq0",
        "colab": {
          "base_uri": "https://localhost:8080/"
        },
        "outputId": "e95f00f0-aec6-4d4f-f49f-403ea1cdea6a"
      },
      "execution_count": null,
      "outputs": [
        {
          "output_type": "stream",
          "name": "stdout",
          "text": [
            "Character 'H' occurs 1 times.\n",
            "Character 'e' occurs 1 times.\n",
            "Character 'l' occurs 3 times.\n",
            "Character 'o' occurs 2 times.\n",
            "Character ' ' occurs 1 times.\n",
            "Character 'w' occurs 1 times.\n",
            "Character 'r' occurs 1 times.\n",
            "Character 'd' occurs 1 times.\n"
          ]
        }
      ]
    },
    {
      "cell_type": "markdown",
      "source": [
        "**7. Write a program to concatenate two tuples.**"
      ],
      "metadata": {
        "id": "F_lwhtVo3L36"
      }
    },
    {
      "cell_type": "code",
      "source": [
        "tuple1 = (1,2,3,4)\n",
        "tuple2 = (2,3,4,5)\n",
        "\n",
        "tuple1 += (tuple2)\n",
        "print(tuple1, type(tuple1))"
      ],
      "metadata": {
        "id": "QKRDvpCt3QdM",
        "outputId": "937fc2e8-964d-447d-dcfe-beee40e9f130",
        "colab": {
          "base_uri": "https://localhost:8080/"
        }
      },
      "execution_count": null,
      "outputs": [
        {
          "output_type": "stream",
          "name": "stdout",
          "text": [
            "(1, 2, 3, 4, 2, 3, 4, 5) <class 'tuple'>\n"
          ]
        }
      ]
    },
    {
      "cell_type": "markdown",
      "source": [
        "**8. Implement a function to find the index of an element in a tuple.**"
      ],
      "metadata": {
        "id": "ey9ccwP06iFV"
      }
    },
    {
      "cell_type": "code",
      "source": [
        "tuple_example = (1,2,3,4,5,6,7,8,9)\n",
        "element = 3\n",
        "def find_index(element):\n",
        "  index = tuple_example.index(element)\n",
        "  return index\n",
        "\n",
        "print(f'The index of {element} is: {find_index(element)}')"
      ],
      "metadata": {
        "id": "peYV2_gY6kD8",
        "outputId": "a3eb877d-857b-4656-f7b8-854675e3b4fa",
        "colab": {
          "base_uri": "https://localhost:8080/"
        }
      },
      "execution_count": null,
      "outputs": [
        {
          "output_type": "stream",
          "name": "stdout",
          "text": [
            "The index of 3 is: 2\n"
          ]
        }
      ]
    },
    {
      "cell_type": "markdown",
      "source": [
        "**9. Create a function to find the intersection of two sets.**"
      ],
      "metadata": {
        "id": "FD45kF1ciSEC"
      }
    },
    {
      "cell_type": "code",
      "source": [
        "def intersection_of_set(set1,set2):\n",
        "  intersected = set1.intersection(set2)\n",
        "  return 'intersection of two set is {}'.format(intersected)\n",
        "\n",
        "set1 = {1,2,3,4}\n",
        "set2 = {2,3,4,5,6,7}\n",
        "\n",
        "intersection_of_set(set1,set2)"
      ],
      "metadata": {
        "colab": {
          "base_uri": "https://localhost:8080/",
          "height": 36
        },
        "id": "FX3Bbe82iUpa",
        "outputId": "b2b57b90-8ccf-4f62-a377-3e03921038cd"
      },
      "execution_count": null,
      "outputs": [
        {
          "output_type": "execute_result",
          "data": {
            "text/plain": [
              "'intersection of two set is {2, 3, 4}'"
            ],
            "application/vnd.google.colaboratory.intrinsic+json": {
              "type": "string"
            }
          },
          "metadata": {},
          "execution_count": 4
        }
      ]
    },
    {
      "cell_type": "markdown",
      "source": [
        "**10. Write a program to remove duplicates from a list using sets.**"
      ],
      "metadata": {
        "id": "mMlsXTXujWZv"
      }
    },
    {
      "cell_type": "code",
      "source": [
        "class remove_duplicates:\n",
        "  def duplicates(list1):\n",
        "    return set(list1)\n",
        "\n",
        "obj = remove_duplicates.duplicates([1,2,3,4,1,3,5,6,7])\n",
        "print(obj)"
      ],
      "metadata": {
        "id": "uXMcq-7WjYtO",
        "outputId": "1d9919f6-b01f-453a-b002-6b35711203c8",
        "colab": {
          "base_uri": "https://localhost:8080/"
        }
      },
      "execution_count": null,
      "outputs": [
        {
          "output_type": "stream",
          "name": "stdout",
          "text": [
            "{1, 2, 3, 4, 5, 6, 7}\n"
          ]
        }
      ]
    },
    {
      "cell_type": "markdown",
      "source": [
        "1. Create a class representing a `Person` with attributes `name` and `age`.\n",
        "2. Implement a method in the `Person` class to display the person's details.\n",
        "3. Create a class for a `Circle` with methods to calculate its area and circumference.\n",
        "4. Implement a `Student` class with attributes `name`, `roll_number`, and `marks`. Include a method to display whether the student has passed or failed.\n",
        "5. Create a `BankAccount` class with methods for deposit and withdrawal.\n",
        "6. Implement a `Book` class with attributes `title`, `author`, and `publication_year`.\n",
        "7. Create a class for a basic `Calculator` with methods for addition, subtraction, multiplication, and division.\n",
        "8. Implement a `Fraction` class with methods for addition, subtraction, multiplication, and division of fractions.\n",
        "9. Create a class `Rectangle` with attributes `length` and `width`. Include methods to calculate area and perimeter.\n",
        "10. Implement a `Car` class with attributes `make`, `model`, and `year`. Include a method to display the car details.\n",
        "11. Write a class for a basic `Queue` using a list.\n",
        "12. Create a class for a simple `Employee` with attributes `name`, `employee_id`, and `salary`.\n",
        "13. Implement a `Point` class representing a point in 2D space. Include a method to calculate the distance from the origin.\n",
        "14. Write a class for a `Stack` using a list.\n",
        "15. Create a `Date` class with attributes `day`, `month`, and `year`.\n",
        "16. Implement a `StringManipulator` class with methods for reversing a string and checking if it is a palindrome.\n",
        "17. Write a class for a basic `LinkedList`.\n",
        "18. Create a `DictionaryManager` class with methods to add, remove, and display key-value pairs.\n",
        "19. Implement a class for a basic `Set` with methods for union, intersection, and difference.\n",
        "20. Write a class `Time` to represent time in hours and minutes. Include methods to add and subtract times."
      ],
      "metadata": {
        "id": "z2mT8ohCYeZy"
      }
    },
    {
      "cell_type": "markdown",
      "source": [
        "**1. Create a class representing a Person with attributes name and age.**"
      ],
      "metadata": {
        "id": "UxaRf3gsY6J6"
      }
    },
    {
      "cell_type": "code",
      "source": [
        "class Person:\n",
        "  def __init__(self,x,y):\n",
        "    self.name = x\n",
        "    self.age = y\n",
        "\n",
        "obj1 = Person('Samarth', 23)\n"
      ],
      "metadata": {
        "id": "sygYNb4eY-Hp"
      },
      "execution_count": null,
      "outputs": []
    },
    {
      "cell_type": "markdown",
      "source": [
        "**2. Implement a method in the Person class to display the person's details.**"
      ],
      "metadata": {
        "id": "Oz10vJjMZkha"
      }
    },
    {
      "cell_type": "code",
      "source": [
        "class Person:\n",
        "  def __str__(self):\n",
        "    return 'name: {}, age: {}'.format(self.name, self.age)\n",
        "\n",
        "print(obj1)"
      ],
      "metadata": {
        "id": "o7-aQA0FZmCh",
        "outputId": "4d9dd38f-a46d-4d24-951d-ad537c54c696",
        "colab": {
          "base_uri": "https://localhost:8080/"
        }
      },
      "execution_count": null,
      "outputs": [
        {
          "output_type": "stream",
          "name": "stdout",
          "text": [
            "<__main__.Person object at 0x7d826fa13a90>\n"
          ]
        }
      ]
    },
    {
      "cell_type": "markdown",
      "source": [
        "**3. Create a class for a Circle with methods to calculate its area and circumference.**"
      ],
      "metadata": {
        "id": "6Wzci454a8wx"
      }
    },
    {
      "cell_type": "code",
      "source": [
        "import math\n",
        "\n",
        "class Circle:\n",
        "    def __init__(self, radius):\n",
        "        self.r = radius\n",
        "\n",
        "    def area(self):\n",
        "        area_of_circle = math.pi * (self.r**2)\n",
        "        return area_of_circle\n",
        "\n",
        "    def circumference(self):\n",
        "        circumference_of_circle = 2 * math.pi * self.r\n",
        "        return circumference_of_circle\n",
        "\n",
        "obj = Circle(7)\n",
        "print(f'Area of circle: {obj.area():.3f}')\n",
        "print(f'Circumference of circle: {obj.circumference():.3f}')\n"
      ],
      "metadata": {
        "id": "T0MZa6Bda-Hq",
        "outputId": "3bd454c1-4d05-4c9f-e0e0-7802cec418bc",
        "colab": {
          "base_uri": "https://localhost:8080/"
        }
      },
      "execution_count": null,
      "outputs": [
        {
          "output_type": "stream",
          "name": "stdout",
          "text": [
            "Area of circle: 153.938\n",
            "Circumference of circle: 43.982\n"
          ]
        }
      ]
    },
    {
      "cell_type": "markdown",
      "source": [
        "**4. Implement a Student class with attributes name, roll_number, and marks. Include a method to display whether the student has passed or failed.**"
      ],
      "metadata": {
        "id": "yaBGXIYmgVzN"
      }
    },
    {
      "cell_type": "code",
      "source": [
        "class Student:\n",
        "  def __init__(self):\n",
        "    self.name = 'Samarth'\n",
        "    self.roll_number = 124\n",
        "    self.marks = int(0)\n",
        "\n",
        "  def result(self):\n",
        "    if self.marks < 33:\n",
        "      return '{} is Fail.'.format(self.name)\n",
        "    else:\n",
        "      return '{} is passed.'.format(self.name)"
      ],
      "metadata": {
        "id": "eIhxGIXhgXbl"
      },
      "execution_count": 12,
      "outputs": []
    },
    {
      "cell_type": "code",
      "source": [
        "obj = Student()\n",
        "obj.marks = 40\n",
        "obj.result()"
      ],
      "metadata": {
        "id": "533RlOJHhqh3",
        "outputId": "0f4ce609-8062-4249-d5ab-6ed6a8592e01",
        "colab": {
          "base_uri": "https://localhost:8080/",
          "height": 36
        }
      },
      "execution_count": 14,
      "outputs": [
        {
          "output_type": "execute_result",
          "data": {
            "text/plain": [
              "'Samarth is passed.'"
            ],
            "application/vnd.google.colaboratory.intrinsic+json": {
              "type": "string"
            }
          },
          "metadata": {},
          "execution_count": 14
        }
      ]
    },
    {
      "cell_type": "markdown",
      "source": [
        "**5. Create a BankAccount class with methods for deposit and withdrawal.**"
      ],
      "metadata": {
        "id": "zniv5I2ejHG-"
      }
    },
    {
      "cell_type": "code",
      "source": [
        "class BankAccount:\n",
        "  def __init__(self):\n",
        "    self.pin = int()\n",
        "    self.balance = int()\n",
        "\n",
        "  def deposit(self):\n",
        "    amount = int(input('Enter the amount you want to deposit: '))\n",
        "    self.balance += amount\n",
        "    return f'Amount {amount} deposited successfully. Total Deposit: {self.balance}'\n",
        "\n",
        "  def withdrawal(self):\n",
        "    amount = int(input('Enter the amount you want to withdraw: '))\n",
        "    self.balance -= amount\n",
        "    return f'Amount {amount} withdrawn done successfully. Remaining Balance: {self.balance}'"
      ],
      "metadata": {
        "id": "t3bwyrmAjJKd"
      },
      "execution_count": 19,
      "outputs": []
    },
    {
      "cell_type": "code",
      "source": [
        "obj = BankAccount()"
      ],
      "metadata": {
        "id": "tBmWHmkykd3d"
      },
      "execution_count": 20,
      "outputs": []
    },
    {
      "cell_type": "code",
      "source": [
        "obj.deposit()"
      ],
      "metadata": {
        "id": "0s70WR0Ukj_v",
        "outputId": "1ce372b0-0fb7-48e0-b603-3fda36f2ea44",
        "colab": {
          "base_uri": "https://localhost:8080/",
          "height": 54
        }
      },
      "execution_count": 21,
      "outputs": [
        {
          "name": "stdout",
          "output_type": "stream",
          "text": [
            "Enter the amount you want to deposit: 5000\n"
          ]
        },
        {
          "output_type": "execute_result",
          "data": {
            "text/plain": [
              "'Amount 5000 deposited successfully. Total Deposit: 5000'"
            ],
            "application/vnd.google.colaboratory.intrinsic+json": {
              "type": "string"
            }
          },
          "metadata": {},
          "execution_count": 21
        }
      ]
    },
    {
      "cell_type": "code",
      "source": [
        "obj.withdrawal()"
      ],
      "metadata": {
        "id": "O8XUCkiakrwk",
        "outputId": "74ba4941-11ae-4670-daab-eaeffe97997c",
        "colab": {
          "base_uri": "https://localhost:8080/",
          "height": 54
        }
      },
      "execution_count": 22,
      "outputs": [
        {
          "name": "stdout",
          "output_type": "stream",
          "text": [
            "Enter the amount you want to withdraw: 2000\n"
          ]
        },
        {
          "output_type": "execute_result",
          "data": {
            "text/plain": [
              "'Amount 2000 withdrawn done successfully. Remaining Balance: 3000'"
            ],
            "application/vnd.google.colaboratory.intrinsic+json": {
              "type": "string"
            }
          },
          "metadata": {},
          "execution_count": 22
        }
      ]
    },
    {
      "cell_type": "markdown",
      "source": [
        "**6. Implement a Book class with attributes title, author, and publication_year.**"
      ],
      "metadata": {
        "id": "PmCW8MbulZO8"
      }
    },
    {
      "cell_type": "code",
      "source": [
        "class Book:\n",
        "  def __init__(self,title,author,year):\n",
        "    self.title = str(title)\n",
        "    self.author = str(author)\n",
        "    self.publication_year = int(year)\n",
        "\n",
        "    print(f\"\"\"title: {self.title}\n",
        "author: {self.author}\n",
        "publication_year: {self.publication_year}\n",
        "          \"\"\")\n"
      ],
      "metadata": {
        "id": "_8H4HlGBlefU"
      },
      "execution_count": 47,
      "outputs": []
    },
    {
      "cell_type": "code",
      "source": [
        "obj = Book('Half Girlfriend', 'Chetan Bhagat', 2011)"
      ],
      "metadata": {
        "id": "sxU6x3EJmz38",
        "outputId": "b127647b-c837-4145-d095-d5c242177583",
        "colab": {
          "base_uri": "https://localhost:8080/"
        }
      },
      "execution_count": 48,
      "outputs": [
        {
          "output_type": "stream",
          "name": "stdout",
          "text": [
            "title: Half Girlfriend\n",
            "author: Chetan Bhagat\n",
            "publication_year: 2011\n",
            "          \n"
          ]
        }
      ]
    }
  ]
}